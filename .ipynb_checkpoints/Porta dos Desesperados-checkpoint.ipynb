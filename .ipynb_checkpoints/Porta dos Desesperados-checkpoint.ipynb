{
 "cells": [
  {
   "cell_type": "code",
   "execution_count": null,
   "metadata": {},
   "outputs": [],
   "source": [
    "# Porta dos Desesperados Simulação"
   ]
  },
  {
   "cell_type": "code",
   "execution_count": 1,
   "metadata": {},
   "outputs": [],
   "source": [
    "import random"
   ]
  },
  {
   "cell_type": "code",
   "execution_count": 101,
   "metadata": {},
   "outputs": [],
   "source": [
    "# Inicialização\n",
    "n = 1000000\n",
    "portas = {'A','B','C'}"
   ]
  },
  {
   "cell_type": "code",
   "execution_count": 103,
   "metadata": {},
   "outputs": [
    {
     "name": "stdout",
     "output_type": "stream",
     "text": [
      "66.6308 % de acerto quando o participante troca de porta\n",
      "33.3692 % de acerto quando o participante nao troca de porta\n"
     ]
    }
   ],
   "source": [
    "resultado_quando_trocou = 0\n",
    "resultado_quando_nao_trocou = 0\n",
    "for i in range(n):\n",
    "    # Escolha aleatória da porta que contem o prêmio\n",
    "    porta_premio = random.choice(list(portas))\n",
    "    # Escolha do participante\n",
    "    porta_escolhida = random.choice(list(portas))\n",
    "    # Apresentador mostra uma porta livre\n",
    "    porta_aberta = random.choice(list(portas.difference(porta_premio).difference(porta_escolhida))) \n",
    "    # Porta escolhida após a troca\n",
    "    porta_trocada = list(portas.difference(porta_escolhida).difference(porta_aberta))[0]\n",
    "    # Contagem dos resultados\n",
    "    if porta_escolhida == porta_premio:\n",
    "        resultado_quando_nao_trocou += 1\n",
    "    if porta_trocada == porta_premio:\n",
    "        resultado_quando_trocou += 1\n",
    "\n",
    "print('{} % de acerto quando o participante troca de porta'.format(resultado_quando_trocou*100/n))\n",
    "print('{} % de acerto quando o participante nao troca de porta'.format(resultado_quando_nao_trocou*100/n))"
   ]
  }
 ],
 "metadata": {
  "kernelspec": {
   "display_name": "Python 3",
   "language": "python",
   "name": "python3"
  },
  "language_info": {
   "codemirror_mode": {
    "name": "ipython",
    "version": 3
   },
   "file_extension": ".py",
   "mimetype": "text/x-python",
   "name": "python",
   "nbconvert_exporter": "python",
   "pygments_lexer": "ipython3",
   "version": "3.7.1"
  }
 },
 "nbformat": 4,
 "nbformat_minor": 2
}
